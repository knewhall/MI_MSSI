{
 "cells": [
  {
   "cell_type": "code",
   "execution_count": 1,
   "id": "e6471984-9e7e-4900-a1a8-3ff46274c096",
   "metadata": {},
   "outputs": [],
   "source": [
    "import numpy as np\n",
    "import matplotlib.pyplot as plt\n",
    "import math\n",
    "import scipy\n",
    "from scipy.optimize import root\n",
    "from scipy.integrate import simps\n",
    "from scipy.integrate import quad\n",
    "import pandas as pd\n",
    "import seaborn\n",
    "from mpl_toolkits.mplot3d import Axes3D\n",
    "from scipy.optimize import curve_fit\n",
    "from multiprocessing import Pool\n",
    "from functools import partial\n",
    "from scipy.optimize import curve_fit"
   ]
  },
  {
   "cell_type": "code",
   "execution_count": null,
   "id": "1b123b2d-b955-4304-8437-e3100fc2fb25",
   "metadata": {},
   "outputs": [],
   "source": [
    "# ------ downsample data -------\n",
    "\n",
    "def downsample(dataframe, particle_ID, downsample_int):\n",
    "    temp1 = dataframe[dataframe['test']==particle_ID] # subset data by particle ID\n",
    "    temp2 = temp1.iloc[::downsample_int, :]  # downsample\n",
    "    return(temp2)\n",
    "\n",
    "\n",
    "# ------ distance function --------\n",
    "def distance(point1, point2):\n",
    "    dist = np.sqrt((point2[0]-point1[0])**2 + (point2[1]-point1[1])**2)\n",
    "    return(dist)\n",
    "\n",
    "\n",
    "# ------- compute MSSI -------\n",
    "\n",
    "def MSSI(t_idx, s1, s3, data):\n",
    "    \n",
    "    s3 = int(s3) # window size (length of sample)\n",
    "    s1 = int(s1) # granularity (length of segments within sample)\n",
    "    \n",
    "    dt = data['t'].iloc[1]-data['t'].iloc[0]\n",
    "    \n",
    "    if(s3<s1):\n",
    "        print('w =', s3 ,'< g =', s1, 'window too small')\n",
    "        return(None)\n",
    "    elif(isinstance(s1, int)==False):\n",
    "        print('g is not an integer')\n",
    "        return(None)\n",
    "    elif(isinstance(s3, int)==False):\n",
    "        print('w is not an integer')\n",
    "        return(None)\n",
    "\n",
    "    s2 = int(s3/s1) \n",
    "    \n",
    "    # time reported is centered in the lag\n",
    "    t = data['t'].iloc[t_idx] + (dt*s3)/2 \n",
    "\n",
    "    straight_dist = distance([data['X'].iloc[t_idx + s3],data['Y'].iloc[t_idx + s3]],\n",
    "                            [data['X'].iloc[t_idx],data['Y'].iloc[t_idx]])\n",
    "    \n",
    "    total_dist = []\n",
    "    \n",
    "    for k in range(0, int(s2)):\n",
    "        temp = distance([data['X'].iloc[t_idx + (k+1)*s1],data['Y'].iloc[t_idx + (k+1)*s1]],\n",
    "                            [data['X'].iloc[t_idx + k*s1],data['Y'].iloc[t_idx + k*s1]])\n",
    "        total_dist = np.append(total_dist,temp)\n",
    "    total_dist = np.sum(total_dist)\n",
    "        \n",
    "    return(t , straight_dist/total_dist)\n",
    "\n",
    "# loop in paper is s2 -1 but if we use that endpoint for a straight line, \n",
    "# it gives incorrect answer (MSSI should return 1)"
   ]
  },
  {
   "cell_type": "code",
   "execution_count": 3,
   "id": "68a163eb-0f3e-4eb4-9028-e43639ac8a42",
   "metadata": {},
   "outputs": [],
   "source": [
    "def get_straight_data(data, granularity, window, path_id):\n",
    "    \n",
    "    straight_data_path = []\n",
    "\n",
    "    times = data[data['test']==0]['t'] # timesteps\n",
    "\n",
    "    drop = pd.DataFrame({'t':times,'X':data[data['test']==path_id]['X'], 'Y':data[data['test']==path_id]['Y']}) # select path data\n",
    "    drop = drop[::10]\n",
    "\n",
    "    #----------COMPUTE STRAIGHTNESS INDEX--------------\n",
    "\n",
    "    L = len(drop)\n",
    "\n",
    "    # granularity = 25; \n",
    "    # window = 400\n",
    "\n",
    "    straight_data = np.zeros((int(L-window),2))\n",
    "\n",
    "    for i in range(0, int(L-window)): # loop through all start times\n",
    "\n",
    "        # compute MSSI\n",
    "        temp = np.asarray(MSSI(t_idx = i, s1 = int(granularity), s3 = window, data = drop))\n",
    "\n",
    "        straight_data[i,:] = temp\n",
    "\n",
    "    straight_data = pd.DataFrame({'t': straight_data[:,0], 'straight_data': straight_data[:,1]})\n",
    "\n",
    "\n",
    "    straight_data_path.append(straight_data)\n",
    "    \n",
    "    return(straight_data_path)\n",
    "        \n",
    "        \n"
   ]
  },
  {
   "cell_type": "code",
   "execution_count": 34,
   "id": "f0a3ec5c-7ac4-4fae-a267-867ef18ea563",
   "metadata": {},
   "outputs": [],
   "source": [
    "num = 15\n",
    "data = pd.read_csv('All_Paths/ABP_Paths_V6_'+str(num)+'.csv', index_col = 0)"
   ]
  },
  {
   "cell_type": "code",
   "execution_count": 35,
   "id": "ab3f79e7-7f96-4a58-9986-2cc8b06b5fa1",
   "metadata": {},
   "outputs": [],
   "source": [
    "path_ids = data['test'].unique()"
   ]
  },
  {
   "cell_type": "code",
   "execution_count": 36,
   "id": "1003b567-645a-4719-834a-8741f2994aa5",
   "metadata": {},
   "outputs": [
    {
     "name": "stdout",
     "output_type": "stream",
     "text": [
      "CPU times: user 2.24 s, sys: 8.95 s, total: 11.2 s\n",
      "Wall time: 4min 23s\n"
     ]
    }
   ],
   "source": [
    "%%time\n",
    "\n",
    "# ---- run in parallel  across all paths-----\n",
    "\n",
    "worker_num = 4  # how many workers, None means default (max workers)\n",
    "\n",
    "if __name__ == '__main__':\n",
    "\n",
    "    inputs = path_ids\n",
    "\n",
    "    pool = Pool(worker_num) # gathers pool of workers\n",
    "\n",
    "    result = pool.map(partial(get_straight_data, \n",
    "                              data, \n",
    "                              25, # granularity\n",
    "                             400,), # window size\n",
    "                            inputs) # maps function calls to the workers, by iterating over inputs\n"
   ]
  },
  {
   "cell_type": "code",
   "execution_count": 37,
   "id": "baf50bb9-3d10-4036-a279-3f5ba2d26631",
   "metadata": {},
   "outputs": [],
   "source": [
    "# put straightness values in array\n",
    "straight_data_compiled = np.zeros((len(result[0][0]['t']),96))\n",
    "for i in range(0,96):\n",
    "    straight_data_compiled[:,i] = result[i][0]['straight_data']\n",
    "    \n",
    "\n",
    "# convert to df    \n",
    "straight_data_compiled = pd.DataFrame(straight_data_compiled, columns = [ np.linspace(0,95,96).astype(int)]) \n",
    "\n",
    "# add timestamps back in\n",
    "straight_data_compiled = straight_data_compiled.assign(t = result[0][0]['t'])\n",
    "\n",
    "# save as csv\n",
    "straight_data_compiled.to_csv('Straight_Data/ABP_Straight_Data_V6_'+str(num)+'.csv')\n",
    "# straight_data_compiled.to_csv('Straight_Data/test.csv')"
   ]
  },
  {
   "cell_type": "code",
   "execution_count": 38,
   "id": "082efadf-cdaa-4c5c-b899-80d21ca17b85",
   "metadata": {},
   "outputs": [],
   "source": [
    "# look at mssi\n",
    "straight_data = pd.read_csv(('Straight_Data/ABP_Straight_Data_V6_'+str(num)+'.csv'))\n",
    "# data_2 = pd.read_csv(('Straight_Data/Straight_Data_V6_5.csv'))"
   ]
  },
  {
   "cell_type": "code",
   "execution_count": 39,
   "id": "ffc9600e-b488-4c37-8179-02760c1bb071",
   "metadata": {},
   "outputs": [
    {
     "data": {
      "image/png": "[encoded data removed]",
      "text/plain": [
       "<Figure size 720x504 with 1 Axes>"
      ]
     },
     "metadata": {
      "needs_background": "light"
     },
     "output_type": "display_data"
    }
   ],
   "source": [
    "fig, ax = plt.subplots(figsize=(10,7))\n",
    "data = straight_data\n",
    "plt.plot(straight_data['t'],straight_data['10']); plt.ylim(0,1)\n",
    "plt.grid()"
   ]
  },
  {
   "cell_type": "code",
   "execution_count": null,
   "id": "2dd8ba66-72c3-4fc2-856a-8e5c75a2896d",
   "metadata": {},
   "outputs": [],
   "source": []
  }
 ],
 "metadata": {
  "kernelspec": {
   "display_name": "Python 3 (ipykernel)",
   "language": "python",
   "name": "python3"
  },
  "language_info": {
   "codemirror_mode": {
    "name": "ipython",
    "version": 3
   },
   "file_extension": ".py",
   "mimetype": "text/x-python",
   "name": "python",
   "nbconvert_exporter": "python",
   "pygments_lexer": "ipython3",
   "version": "3.9.7"
  }
 },
 "nbformat": 4,
 "nbformat_minor": 5
}
